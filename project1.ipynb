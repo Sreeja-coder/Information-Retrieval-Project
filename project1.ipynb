{
 "cells": [
  {
   "cell_type": "code",
   "execution_count": 1,
   "metadata": {},
   "outputs": [],
   "source": [
    "import gzip\n",
    "import json as simplejson\n",
    "import string\n",
    "\n",
    "import pandas as pd\n",
    "from collections  import  defaultdict\n",
    "import re\n",
    "\n",
    "\n",
    "def parse(path):\n",
    "    g = gzip.open(path, 'rb')\n",
    "    for l in g:\n",
    "        yield simplejson.loads(l)\n",
    "\n",
    "def getDF(path):\n",
    "    i = 0\n",
    "    df = {}\n",
    "    for d in parse(path):\n",
    "        df[i] = d\n",
    "        i += 1\n",
    "    return pd.DataFrame.from_dict(df, orient='index')\n",
    "\n",
    "\n",
    "#### for questions #####\n",
    "def parse1(path):\n",
    "  g = gzip.open(path, 'rb')\n",
    "  for l in g:\n",
    "    yield eval(l)\n",
    "\n",
    "def getDF1(path):\n",
    "  i = 0\n",
    "  df = {}\n",
    "  for d in parse1(path):\n",
    "    df[i] = d\n",
    "    i += 1\n",
    "  return pd.DataFrame.from_dict(df, orient='index')"
   ]
  },
  {
   "cell_type": "code",
   "execution_count": 2,
   "metadata": {},
   "outputs": [],
   "source": [
    "df = getDF('data/meta_Electronics.json.gz')\n",
    "df1 = getDF1('data/qa_Electronics.json.gz')\n"
   ]
  },
  {
   "cell_type": "code",
   "execution_count": 7,
   "metadata": {},
   "outputs": [
    {
     "data": {
      "text/plain": [
       "questionType                                yes/no\n",
       "asin                                    0594033926\n",
       "answerTime                             Jan 5, 2015\n",
       "unixTime                               1.42044e+09\n",
       "question               Does it fit Nook GlowLight?\n",
       "answerType                                       N\n",
       "answer          No. The nook color or color tablet\n",
       "Name: 1, dtype: object"
      ]
     },
     "execution_count": 7,
     "metadata": {},
     "output_type": "execute_result"
    }
   ],
   "source": [
    "df1.iloc[1]"
   ]
  },
  {
   "cell_type": "code",
   "execution_count": 6,
   "metadata": {},
   "outputs": [
    {
     "data": {
      "text/plain": [
       "Index(['category', 'tech1', 'description', 'fit', 'title', 'also_buy', 'image',\n",
       "       'tech2', 'brand', 'feature', 'rank', 'also_view', 'main_cat',\n",
       "       'similar_item', 'date', 'price', 'asin', 'details'],\n",
       "      dtype='object')"
      ]
     },
     "execution_count": 6,
     "metadata": {},
     "output_type": "execute_result"
    }
   ],
   "source": [
    "df.columns"
   ]
  },
  {
   "cell_type": "code",
   "execution_count": 8,
   "metadata": {},
   "outputs": [],
   "source": [
    "df_new = df[['category', 'description', 'title', 'brand', 'feature', 'also_view', 'asin']]\n",
    "df1_new = df1[['questionType', 'asin', 'question', 'answerType', 'answer']]"
   ]
  },
  {
   "cell_type": "code",
   "execution_count": 10,
   "metadata": {},
   "outputs": [
    {
     "data": {
      "text/plain": [
       "Index(['category', 'description', 'title', 'brand', 'feature', 'also_view',\n",
       "       'asin'],\n",
       "      dtype='object')"
      ]
     },
     "execution_count": 10,
     "metadata": {},
     "output_type": "execute_result"
    }
   ],
   "source": [
    "df_new.columns"
   ]
  },
  {
   "cell_type": "code",
   "execution_count": 11,
   "metadata": {},
   "outputs": [],
   "source": [
    "dfcommon = df1_new.merge(df_new, how = 'inner' ,indicator=False)"
   ]
  },
  {
   "cell_type": "code",
   "execution_count": 13,
   "metadata": {},
   "outputs": [
    {
     "data": {
      "text/plain": [
       "questionType                                               yes/no\n",
       "asin                                                   0594033926\n",
       "question                              Does it fit Nook GlowLight?\n",
       "answerType                                                      N\n",
       "answer                         No. The nook color or color tablet\n",
       "category           [Electronics, eBook Readers &amp; Accessories]\n",
       "description     [The Dessin Cover in Noir for Nook Tablet help...\n",
       "title           Barnes &amp; Noble Dessin Leather Cover for No...\n",
       "brand                                          Barnes &amp; Noble\n",
       "feature         [Glazed leather exterior, faux suede lining, I...\n",
       "also_view                                                      []\n",
       "Name: 1, dtype: object"
      ]
     },
     "execution_count": 13,
     "metadata": {},
     "output_type": "execute_result"
    }
   ],
   "source": [
    "dfcommon.iloc[1]"
   ]
  },
  {
   "cell_type": "code",
   "execution_count": 14,
   "metadata": {},
   "outputs": [
    {
     "data": {
      "text/html": [
       "<div>\n",
       "<style scoped>\n",
       "    .dataframe tbody tr th:only-of-type {\n",
       "        vertical-align: middle;\n",
       "    }\n",
       "\n",
       "    .dataframe tbody tr th {\n",
       "        vertical-align: top;\n",
       "    }\n",
       "\n",
       "    .dataframe thead th {\n",
       "        text-align: right;\n",
       "    }\n",
       "</style>\n",
       "<table border=\"1\" class=\"dataframe\">\n",
       "  <thead>\n",
       "    <tr style=\"text-align: right;\">\n",
       "      <th></th>\n",
       "      <th>category</th>\n",
       "      <th>description</th>\n",
       "      <th>title</th>\n",
       "      <th>brand</th>\n",
       "      <th>feature</th>\n",
       "      <th>also_view</th>\n",
       "      <th>asin</th>\n",
       "    </tr>\n",
       "  </thead>\n",
       "  <tbody>\n",
       "    <tr>\n",
       "      <th>61</th>\n",
       "      <td>[Electronics, eBook Readers &amp;amp; Accessories]</td>\n",
       "      <td>[The Dessin Cover in Noir for Nook Tablet help...</td>\n",
       "      <td>Barnes &amp;amp; Noble Dessin Leather Cover for No...</td>\n",
       "      <td>Barnes &amp;amp; Noble</td>\n",
       "      <td>[Glazed leather exterior, faux suede lining, I...</td>\n",
       "      <td>[]</td>\n",
       "      <td>0594033926</td>\n",
       "    </tr>\n",
       "  </tbody>\n",
       "</table>\n",
       "</div>"
      ],
      "text/plain": [
       "                                          category  \\\n",
       "61  [Electronics, eBook Readers &amp; Accessories]   \n",
       "\n",
       "                                          description  \\\n",
       "61  [The Dessin Cover in Noir for Nook Tablet help...   \n",
       "\n",
       "                                                title               brand  \\\n",
       "61  Barnes &amp; Noble Dessin Leather Cover for No...  Barnes &amp; Noble   \n",
       "\n",
       "                                              feature also_view        asin  \n",
       "61  [Glazed leather exterior, faux suede lining, I...        []  0594033926  "
      ]
     },
     "execution_count": 14,
     "metadata": {},
     "output_type": "execute_result"
    }
   ],
   "source": [
    "df_new.loc[df['asin'] == '0594033926']"
   ]
  },
  {
   "cell_type": "code",
   "execution_count": 17,
   "metadata": {},
   "outputs": [
    {
     "data": {
      "text/html": [
       "<div>\n",
       "<style scoped>\n",
       "    .dataframe tbody tr th:only-of-type {\n",
       "        vertical-align: middle;\n",
       "    }\n",
       "\n",
       "    .dataframe tbody tr th {\n",
       "        vertical-align: top;\n",
       "    }\n",
       "\n",
       "    .dataframe thead th {\n",
       "        text-align: right;\n",
       "    }\n",
       "</style>\n",
       "<table border=\"1\" class=\"dataframe\">\n",
       "  <thead>\n",
       "    <tr style=\"text-align: right;\">\n",
       "      <th></th>\n",
       "      <th>questionType</th>\n",
       "      <th>asin</th>\n",
       "      <th>question</th>\n",
       "      <th>answerType</th>\n",
       "      <th>answer</th>\n",
       "    </tr>\n",
       "  </thead>\n",
       "  <tbody>\n",
       "    <tr>\n",
       "      <th>0</th>\n",
       "      <td>yes/no</td>\n",
       "      <td>0594033926</td>\n",
       "      <td>Is this cover the one that fits the old nook c...</td>\n",
       "      <td>Y</td>\n",
       "      <td>Yes this fits both the nook color and the same...</td>\n",
       "    </tr>\n",
       "    <tr>\n",
       "      <th>1</th>\n",
       "      <td>yes/no</td>\n",
       "      <td>0594033926</td>\n",
       "      <td>Does it fit Nook GlowLight?</td>\n",
       "      <td>N</td>\n",
       "      <td>No. The nook color or color tablet</td>\n",
       "    </tr>\n",
       "    <tr>\n",
       "      <th>2</th>\n",
       "      <td>open-ended</td>\n",
       "      <td>0594033926</td>\n",
       "      <td>Would it fit Nook 1st Edition? 4.9in x 7.7in ?</td>\n",
       "      <td>NaN</td>\n",
       "      <td>I don't think so. The nook color is 5 x 8 so n...</td>\n",
       "    </tr>\n",
       "    <tr>\n",
       "      <th>3</th>\n",
       "      <td>yes/no</td>\n",
       "      <td>0594033926</td>\n",
       "      <td>Will this fit a Nook Color that's 5 x 8?</td>\n",
       "      <td>Y</td>\n",
       "      <td>yes</td>\n",
       "    </tr>\n",
       "    <tr>\n",
       "      <th>4</th>\n",
       "      <td>yes/no</td>\n",
       "      <td>0594033926</td>\n",
       "      <td>will this fit the Samsung Galaxy Tab 4 Nook 10.1</td>\n",
       "      <td>N</td>\n",
       "      <td>No, the tab is smaller than the 'color'</td>\n",
       "    </tr>\n",
       "    <tr>\n",
       "      <th>5</th>\n",
       "      <td>yes/no</td>\n",
       "      <td>0594033926</td>\n",
       "      <td>does it have a flip stand?</td>\n",
       "      <td>N</td>\n",
       "      <td>No, there is not a flip stand. It has a pocket...</td>\n",
       "    </tr>\n",
       "    <tr>\n",
       "      <th>6</th>\n",
       "      <td>yes/no</td>\n",
       "      <td>0594033926</td>\n",
       "      <td>does this have a flip stand</td>\n",
       "      <td>?</td>\n",
       "      <td>Hi, no it doesn't</td>\n",
       "    </tr>\n",
       "    <tr>\n",
       "      <th>7</th>\n",
       "      <td>open-ended</td>\n",
       "      <td>0594033926</td>\n",
       "      <td>also fits the HD+?</td>\n",
       "      <td>NaN</td>\n",
       "      <td>It should. They are the same size and the char...</td>\n",
       "    </tr>\n",
       "    <tr>\n",
       "      <th>8</th>\n",
       "      <td>yes/no</td>\n",
       "      <td>0594033926</td>\n",
       "      <td>Does it have 2 positions for the reader? Horiz...</td>\n",
       "      <td>Y</td>\n",
       "      <td>Yes</td>\n",
       "    </tr>\n",
       "    <tr>\n",
       "      <th>9</th>\n",
       "      <td>open-ended</td>\n",
       "      <td>0594033926</td>\n",
       "      <td>Is there a closure mechanism? Bands, magnetic,...</td>\n",
       "      <td>NaN</td>\n",
       "      <td>No- it is more like a normal book would be. It...</td>\n",
       "    </tr>\n",
       "  </tbody>\n",
       "</table>\n",
       "</div>"
      ],
      "text/plain": [
       "  questionType        asin                                           question  \\\n",
       "0       yes/no  0594033926  Is this cover the one that fits the old nook c...   \n",
       "1       yes/no  0594033926                        Does it fit Nook GlowLight?   \n",
       "2   open-ended  0594033926     Would it fit Nook 1st Edition? 4.9in x 7.7in ?   \n",
       "3       yes/no  0594033926           Will this fit a Nook Color that's 5 x 8?   \n",
       "4       yes/no  0594033926   will this fit the Samsung Galaxy Tab 4 Nook 10.1   \n",
       "5       yes/no  0594033926                         does it have a flip stand?   \n",
       "6       yes/no  0594033926                        does this have a flip stand   \n",
       "7   open-ended  0594033926                                 also fits the HD+?   \n",
       "8       yes/no  0594033926  Does it have 2 positions for the reader? Horiz...   \n",
       "9   open-ended  0594033926  Is there a closure mechanism? Bands, magnetic,...   \n",
       "\n",
       "  answerType                                             answer  \n",
       "0          Y  Yes this fits both the nook color and the same...  \n",
       "1          N                 No. The nook color or color tablet  \n",
       "2        NaN  I don't think so. The nook color is 5 x 8 so n...  \n",
       "3          Y                                                yes  \n",
       "4          N            No, the tab is smaller than the 'color'  \n",
       "5          N  No, there is not a flip stand. It has a pocket...  \n",
       "6          ?                                  Hi, no it doesn't  \n",
       "7        NaN  It should. They are the same size and the char...  \n",
       "8          Y                                                Yes  \n",
       "9        NaN  No- it is more like a normal book would be. It...  "
      ]
     },
     "execution_count": 17,
     "metadata": {},
     "output_type": "execute_result"
    }
   ],
   "source": [
    "df1_new.loc[df1_new['asin'] == '0594033926']"
   ]
  },
  {
   "cell_type": "code",
   "execution_count": 18,
   "metadata": {},
   "outputs": [
    {
     "data": {
      "text/html": [
       "<div>\n",
       "<style scoped>\n",
       "    .dataframe tbody tr th:only-of-type {\n",
       "        vertical-align: middle;\n",
       "    }\n",
       "\n",
       "    .dataframe tbody tr th {\n",
       "        vertical-align: top;\n",
       "    }\n",
       "\n",
       "    .dataframe thead th {\n",
       "        text-align: right;\n",
       "    }\n",
       "</style>\n",
       "<table border=\"1\" class=\"dataframe\">\n",
       "  <thead>\n",
       "    <tr style=\"text-align: right;\">\n",
       "      <th></th>\n",
       "      <th>questionType</th>\n",
       "      <th>asin</th>\n",
       "      <th>question</th>\n",
       "      <th>answerType</th>\n",
       "      <th>answer</th>\n",
       "      <th>category</th>\n",
       "      <th>description</th>\n",
       "      <th>title</th>\n",
       "      <th>brand</th>\n",
       "      <th>feature</th>\n",
       "      <th>also_view</th>\n",
       "    </tr>\n",
       "  </thead>\n",
       "  <tbody>\n",
       "    <tr>\n",
       "      <th>0</th>\n",
       "      <td>yes/no</td>\n",
       "      <td>0594033926</td>\n",
       "      <td>Is this cover the one that fits the old nook c...</td>\n",
       "      <td>Y</td>\n",
       "      <td>Yes this fits both the nook color and the same...</td>\n",
       "      <td>[Electronics, eBook Readers &amp;amp; Accessories]</td>\n",
       "      <td>[The Dessin Cover in Noir for Nook Tablet help...</td>\n",
       "      <td>Barnes &amp;amp; Noble Dessin Leather Cover for No...</td>\n",
       "      <td>Barnes &amp;amp; Noble</td>\n",
       "      <td>[Glazed leather exterior, faux suede lining, I...</td>\n",
       "      <td>[]</td>\n",
       "    </tr>\n",
       "    <tr>\n",
       "      <th>1</th>\n",
       "      <td>yes/no</td>\n",
       "      <td>0594033926</td>\n",
       "      <td>Does it fit Nook GlowLight?</td>\n",
       "      <td>N</td>\n",
       "      <td>No. The nook color or color tablet</td>\n",
       "      <td>[Electronics, eBook Readers &amp;amp; Accessories]</td>\n",
       "      <td>[The Dessin Cover in Noir for Nook Tablet help...</td>\n",
       "      <td>Barnes &amp;amp; Noble Dessin Leather Cover for No...</td>\n",
       "      <td>Barnes &amp;amp; Noble</td>\n",
       "      <td>[Glazed leather exterior, faux suede lining, I...</td>\n",
       "      <td>[]</td>\n",
       "    </tr>\n",
       "    <tr>\n",
       "      <th>2</th>\n",
       "      <td>open-ended</td>\n",
       "      <td>0594033926</td>\n",
       "      <td>Would it fit Nook 1st Edition? 4.9in x 7.7in ?</td>\n",
       "      <td>NaN</td>\n",
       "      <td>I don't think so. The nook color is 5 x 8 so n...</td>\n",
       "      <td>[Electronics, eBook Readers &amp;amp; Accessories]</td>\n",
       "      <td>[The Dessin Cover in Noir for Nook Tablet help...</td>\n",
       "      <td>Barnes &amp;amp; Noble Dessin Leather Cover for No...</td>\n",
       "      <td>Barnes &amp;amp; Noble</td>\n",
       "      <td>[Glazed leather exterior, faux suede lining, I...</td>\n",
       "      <td>[]</td>\n",
       "    </tr>\n",
       "    <tr>\n",
       "      <th>3</th>\n",
       "      <td>yes/no</td>\n",
       "      <td>0594033926</td>\n",
       "      <td>Will this fit a Nook Color that's 5 x 8?</td>\n",
       "      <td>Y</td>\n",
       "      <td>yes</td>\n",
       "      <td>[Electronics, eBook Readers &amp;amp; Accessories]</td>\n",
       "      <td>[The Dessin Cover in Noir for Nook Tablet help...</td>\n",
       "      <td>Barnes &amp;amp; Noble Dessin Leather Cover for No...</td>\n",
       "      <td>Barnes &amp;amp; Noble</td>\n",
       "      <td>[Glazed leather exterior, faux suede lining, I...</td>\n",
       "      <td>[]</td>\n",
       "    </tr>\n",
       "    <tr>\n",
       "      <th>4</th>\n",
       "      <td>yes/no</td>\n",
       "      <td>0594033926</td>\n",
       "      <td>will this fit the Samsung Galaxy Tab 4 Nook 10.1</td>\n",
       "      <td>N</td>\n",
       "      <td>No, the tab is smaller than the 'color'</td>\n",
       "      <td>[Electronics, eBook Readers &amp;amp; Accessories]</td>\n",
       "      <td>[The Dessin Cover in Noir for Nook Tablet help...</td>\n",
       "      <td>Barnes &amp;amp; Noble Dessin Leather Cover for No...</td>\n",
       "      <td>Barnes &amp;amp; Noble</td>\n",
       "      <td>[Glazed leather exterior, faux suede lining, I...</td>\n",
       "      <td>[]</td>\n",
       "    </tr>\n",
       "    <tr>\n",
       "      <th>5</th>\n",
       "      <td>yes/no</td>\n",
       "      <td>0594033926</td>\n",
       "      <td>does it have a flip stand?</td>\n",
       "      <td>N</td>\n",
       "      <td>No, there is not a flip stand. It has a pocket...</td>\n",
       "      <td>[Electronics, eBook Readers &amp;amp; Accessories]</td>\n",
       "      <td>[The Dessin Cover in Noir for Nook Tablet help...</td>\n",
       "      <td>Barnes &amp;amp; Noble Dessin Leather Cover for No...</td>\n",
       "      <td>Barnes &amp;amp; Noble</td>\n",
       "      <td>[Glazed leather exterior, faux suede lining, I...</td>\n",
       "      <td>[]</td>\n",
       "    </tr>\n",
       "    <tr>\n",
       "      <th>6</th>\n",
       "      <td>yes/no</td>\n",
       "      <td>0594033926</td>\n",
       "      <td>does this have a flip stand</td>\n",
       "      <td>?</td>\n",
       "      <td>Hi, no it doesn't</td>\n",
       "      <td>[Electronics, eBook Readers &amp;amp; Accessories]</td>\n",
       "      <td>[The Dessin Cover in Noir for Nook Tablet help...</td>\n",
       "      <td>Barnes &amp;amp; Noble Dessin Leather Cover for No...</td>\n",
       "      <td>Barnes &amp;amp; Noble</td>\n",
       "      <td>[Glazed leather exterior, faux suede lining, I...</td>\n",
       "      <td>[]</td>\n",
       "    </tr>\n",
       "    <tr>\n",
       "      <th>7</th>\n",
       "      <td>open-ended</td>\n",
       "      <td>0594033926</td>\n",
       "      <td>also fits the HD+?</td>\n",
       "      <td>NaN</td>\n",
       "      <td>It should. They are the same size and the char...</td>\n",
       "      <td>[Electronics, eBook Readers &amp;amp; Accessories]</td>\n",
       "      <td>[The Dessin Cover in Noir for Nook Tablet help...</td>\n",
       "      <td>Barnes &amp;amp; Noble Dessin Leather Cover for No...</td>\n",
       "      <td>Barnes &amp;amp; Noble</td>\n",
       "      <td>[Glazed leather exterior, faux suede lining, I...</td>\n",
       "      <td>[]</td>\n",
       "    </tr>\n",
       "    <tr>\n",
       "      <th>8</th>\n",
       "      <td>yes/no</td>\n",
       "      <td>0594033926</td>\n",
       "      <td>Does it have 2 positions for the reader? Horiz...</td>\n",
       "      <td>Y</td>\n",
       "      <td>Yes</td>\n",
       "      <td>[Electronics, eBook Readers &amp;amp; Accessories]</td>\n",
       "      <td>[The Dessin Cover in Noir for Nook Tablet help...</td>\n",
       "      <td>Barnes &amp;amp; Noble Dessin Leather Cover for No...</td>\n",
       "      <td>Barnes &amp;amp; Noble</td>\n",
       "      <td>[Glazed leather exterior, faux suede lining, I...</td>\n",
       "      <td>[]</td>\n",
       "    </tr>\n",
       "    <tr>\n",
       "      <th>9</th>\n",
       "      <td>open-ended</td>\n",
       "      <td>0594033926</td>\n",
       "      <td>Is there a closure mechanism? Bands, magnetic,...</td>\n",
       "      <td>NaN</td>\n",
       "      <td>No- it is more like a normal book would be. It...</td>\n",
       "      <td>[Electronics, eBook Readers &amp;amp; Accessories]</td>\n",
       "      <td>[The Dessin Cover in Noir for Nook Tablet help...</td>\n",
       "      <td>Barnes &amp;amp; Noble Dessin Leather Cover for No...</td>\n",
       "      <td>Barnes &amp;amp; Noble</td>\n",
       "      <td>[Glazed leather exterior, faux suede lining, I...</td>\n",
       "      <td>[]</td>\n",
       "    </tr>\n",
       "  </tbody>\n",
       "</table>\n",
       "</div>"
      ],
      "text/plain": [
       "  questionType        asin                                           question  \\\n",
       "0       yes/no  0594033926  Is this cover the one that fits the old nook c...   \n",
       "1       yes/no  0594033926                        Does it fit Nook GlowLight?   \n",
       "2   open-ended  0594033926     Would it fit Nook 1st Edition? 4.9in x 7.7in ?   \n",
       "3       yes/no  0594033926           Will this fit a Nook Color that's 5 x 8?   \n",
       "4       yes/no  0594033926   will this fit the Samsung Galaxy Tab 4 Nook 10.1   \n",
       "5       yes/no  0594033926                         does it have a flip stand?   \n",
       "6       yes/no  0594033926                        does this have a flip stand   \n",
       "7   open-ended  0594033926                                 also fits the HD+?   \n",
       "8       yes/no  0594033926  Does it have 2 positions for the reader? Horiz...   \n",
       "9   open-ended  0594033926  Is there a closure mechanism? Bands, magnetic,...   \n",
       "\n",
       "  answerType                                             answer  \\\n",
       "0          Y  Yes this fits both the nook color and the same...   \n",
       "1          N                 No. The nook color or color tablet   \n",
       "2        NaN  I don't think so. The nook color is 5 x 8 so n...   \n",
       "3          Y                                                yes   \n",
       "4          N            No, the tab is smaller than the 'color'   \n",
       "5          N  No, there is not a flip stand. It has a pocket...   \n",
       "6          ?                                  Hi, no it doesn't   \n",
       "7        NaN  It should. They are the same size and the char...   \n",
       "8          Y                                                Yes   \n",
       "9        NaN  No- it is more like a normal book would be. It...   \n",
       "\n",
       "                                         category  \\\n",
       "0  [Electronics, eBook Readers &amp; Accessories]   \n",
       "1  [Electronics, eBook Readers &amp; Accessories]   \n",
       "2  [Electronics, eBook Readers &amp; Accessories]   \n",
       "3  [Electronics, eBook Readers &amp; Accessories]   \n",
       "4  [Electronics, eBook Readers &amp; Accessories]   \n",
       "5  [Electronics, eBook Readers &amp; Accessories]   \n",
       "6  [Electronics, eBook Readers &amp; Accessories]   \n",
       "7  [Electronics, eBook Readers &amp; Accessories]   \n",
       "8  [Electronics, eBook Readers &amp; Accessories]   \n",
       "9  [Electronics, eBook Readers &amp; Accessories]   \n",
       "\n",
       "                                         description  \\\n",
       "0  [The Dessin Cover in Noir for Nook Tablet help...   \n",
       "1  [The Dessin Cover in Noir for Nook Tablet help...   \n",
       "2  [The Dessin Cover in Noir for Nook Tablet help...   \n",
       "3  [The Dessin Cover in Noir for Nook Tablet help...   \n",
       "4  [The Dessin Cover in Noir for Nook Tablet help...   \n",
       "5  [The Dessin Cover in Noir for Nook Tablet help...   \n",
       "6  [The Dessin Cover in Noir for Nook Tablet help...   \n",
       "7  [The Dessin Cover in Noir for Nook Tablet help...   \n",
       "8  [The Dessin Cover in Noir for Nook Tablet help...   \n",
       "9  [The Dessin Cover in Noir for Nook Tablet help...   \n",
       "\n",
       "                                               title               brand  \\\n",
       "0  Barnes &amp; Noble Dessin Leather Cover for No...  Barnes &amp; Noble   \n",
       "1  Barnes &amp; Noble Dessin Leather Cover for No...  Barnes &amp; Noble   \n",
       "2  Barnes &amp; Noble Dessin Leather Cover for No...  Barnes &amp; Noble   \n",
       "3  Barnes &amp; Noble Dessin Leather Cover for No...  Barnes &amp; Noble   \n",
       "4  Barnes &amp; Noble Dessin Leather Cover for No...  Barnes &amp; Noble   \n",
       "5  Barnes &amp; Noble Dessin Leather Cover for No...  Barnes &amp; Noble   \n",
       "6  Barnes &amp; Noble Dessin Leather Cover for No...  Barnes &amp; Noble   \n",
       "7  Barnes &amp; Noble Dessin Leather Cover for No...  Barnes &amp; Noble   \n",
       "8  Barnes &amp; Noble Dessin Leather Cover for No...  Barnes &amp; Noble   \n",
       "9  Barnes &amp; Noble Dessin Leather Cover for No...  Barnes &amp; Noble   \n",
       "\n",
       "                                             feature also_view  \n",
       "0  [Glazed leather exterior, faux suede lining, I...        []  \n",
       "1  [Glazed leather exterior, faux suede lining, I...        []  \n",
       "2  [Glazed leather exterior, faux suede lining, I...        []  \n",
       "3  [Glazed leather exterior, faux suede lining, I...        []  \n",
       "4  [Glazed leather exterior, faux suede lining, I...        []  \n",
       "5  [Glazed leather exterior, faux suede lining, I...        []  \n",
       "6  [Glazed leather exterior, faux suede lining, I...        []  \n",
       "7  [Glazed leather exterior, faux suede lining, I...        []  \n",
       "8  [Glazed leather exterior, faux suede lining, I...        []  \n",
       "9  [Glazed leather exterior, faux suede lining, I...        []  "
      ]
     },
     "execution_count": 18,
     "metadata": {},
     "output_type": "execute_result"
    }
   ],
   "source": [
    "dfcommon.loc[dfcommon['asin'] == '0594033926']"
   ]
  },
  {
   "cell_type": "code",
   "execution_count": 19,
   "metadata": {},
   "outputs": [],
   "source": [
    "dfcommon.to_pickle('filtered_electronics.pkl')   #df to pickle"
   ]
  },
  {
   "cell_type": "code",
   "execution_count": 22,
   "metadata": {},
   "outputs": [],
   "source": [
    "uniqueAsin = dfcommon.asin.unique()"
   ]
  },
  {
   "cell_type": "code",
   "execution_count": 24,
   "metadata": {},
   "outputs": [
    {
     "name": "stdout",
     "output_type": "stream",
     "text": [
      "23931\n"
     ]
    }
   ],
   "source": [
    "print(len(uniqueAsin))"
   ]
  },
  {
   "cell_type": "code",
   "execution_count": 25,
   "metadata": {},
   "outputs": [
    {
     "data": {
      "text/plain": [
       "200494"
      ]
     },
     "execution_count": 25,
     "metadata": {},
     "output_type": "execute_result"
    }
   ],
   "source": [
    "len(dfcommon)"
   ]
  },
  {
   "cell_type": "code",
   "execution_count": 26,
   "metadata": {},
   "outputs": [],
   "source": [
    "dfpic = pd.read_pickle('filtered_electronics.pkl')  #pickle to df"
   ]
  },
  {
   "cell_type": "code",
   "execution_count": 27,
   "metadata": {},
   "outputs": [
    {
     "data": {
      "text/plain": [
       "200494"
      ]
     },
     "execution_count": 27,
     "metadata": {},
     "output_type": "execute_result"
    }
   ],
   "source": [
    "len(dfpic)"
   ]
  },
  {
   "cell_type": "code",
   "execution_count": null,
   "metadata": {},
   "outputs": [],
   "source": []
  }
 ],
 "metadata": {
  "kernelspec": {
   "display_name": "Python 3",
   "language": "python",
   "name": "python3"
  },
  "language_info": {
   "codemirror_mode": {
    "name": "ipython",
    "version": 3
   },
   "file_extension": ".py",
   "mimetype": "text/x-python",
   "name": "python",
   "nbconvert_exporter": "python",
   "pygments_lexer": "ipython3",
   "version": "3.8.3"
  }
 },
 "nbformat": 4,
 "nbformat_minor": 4
}
